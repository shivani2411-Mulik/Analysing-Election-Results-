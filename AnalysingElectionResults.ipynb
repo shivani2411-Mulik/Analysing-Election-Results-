{
  "nbformat": 4,
  "nbformat_minor": 0,
  "metadata": {
    "colab": {
      "provenance": [],
      "authorship_tag": "ABX9TyPZi2U477VTTQn6ozMvWMIo",
      "include_colab_link": true
    },
    "kernelspec": {
      "name": "python3",
      "display_name": "Python 3"
    },
    "language_info": {
      "name": "python"
    }
  },
  "cells": [
    {
      "cell_type": "markdown",
      "metadata": {
        "id": "view-in-github",
        "colab_type": "text"
      },
      "source": [
        "<a href=\"https://colab.research.google.com/github/shivani2411-Mulik/Analysing-Election-Results-/blob/main/AnalysingElectionResults.ipynb\" target=\"_parent\"><img src=\"https://colab.research.google.com/assets/colab-badge.svg\" alt=\"Open In Colab\"/></a>"
      ]
    },
    {
      "cell_type": "code",
      "execution_count": null,
      "metadata": {
        "id": "JazyjsQak2eA"
      },
      "outputs": [],
      "source": []
    },
    {
      "cell_type": "code",
      "source": [
        "import pandas as pd\n"
      ],
      "metadata": {
        "id": "McIFVstlk8dW"
      },
      "execution_count": null,
      "outputs": []
    },
    {
      "cell_type": "code",
      "source": [
        "#Sample election results data (replace with actual data if available)\n",
        "\n",
        "data = {\n",
        "\n",
        "'Constituency': ['A', 'B', 'C', 'A', 'B', 'C', 'A', 'B', 'C'],\n",
        "\n",
        "'Party': ['Party A', 'Party B', 'Party A', 'Party B', 'Party C', 'Party C', 'Party A', 'Party B', 'Party A'],\n",
        "\n",
        "'Candidate': [ 'Candidate X', 'Candidate Y', 'Candidate Z', 'Candidate P', 'Candidate Q', 'Candidate R', 'Candidate S', 'Candidate T', 'Candidate U'],\n",
        "\n",
        "'Votes': [15000, 12000, 18000, 13000, 10000, 11000, 17000, 14000, 16000]\n",
        "}\n",
        "df =pd.DataFrame(data)\n"
      ],
      "metadata": {
        "id": "pDRXAQa3lAZc"
      },
      "execution_count": null,
      "outputs": []
    },
    {
      "cell_type": "code",
      "source": [
        "#Calculate total votes for each party\n",
        "\n",
        "total_votes_by_party= df.groupby('Party') ['Votes'].sum()\n",
        "\n",
        "print(\"Total votes per Party:\\n\", total_votes_by_party)\n"
      ],
      "metadata": {
        "colab": {
          "base_uri": "https://localhost:8080/"
        },
        "id": "yhSNhTyglMcC",
        "outputId": "cd5bfa4f-750e-4d2c-cfd2-384ce762f3c8"
      },
      "execution_count": null,
      "outputs": [
        {
          "output_type": "stream",
          "name": "stdout",
          "text": [
            "Total votes per Party:\n",
            " Party\n",
            "Party A    66000\n",
            "Party B    39000\n",
            "Party C    21000\n",
            "Name: Votes, dtype: int64\n"
          ]
        }
      ]
    },
    {
      "cell_type": "code",
      "source": [
        "#Identify the winning party in each constituency\n",
        "\n",
        "def get_winning_party(x):\n",
        "\n",
        "     return x.loc[x['Votes'].idxmax(), 'Party']\n"
      ],
      "metadata": {
        "id": "jPGs6WlblRBt"
      },
      "execution_count": null,
      "outputs": []
    },
    {
      "cell_type": "code",
      "source": [
        "winning_party_by_constituency=df.groupby('Constituency').apply(get_winning_party)\n",
        "print(\"\\winning party by constituency :\\n\",winning_party_by_constituency)\n"
      ],
      "metadata": {
        "colab": {
          "base_uri": "https://localhost:8080/"
        },
        "id": "vA4V5_LulY-f",
        "outputId": "26a6ac83-d7ca-496f-ed3a-4f0a603d0d1f"
      },
      "execution_count": null,
      "outputs": [
        {
          "output_type": "stream",
          "name": "stdout",
          "text": [
            "\\winning party by constituency :\n",
            " Constituency\n",
            "A    Party A\n",
            "B    Party B\n",
            "C    Party A\n",
            "dtype: object\n"
          ]
        },
        {
          "output_type": "stream",
          "name": "stderr",
          "text": [
            "<ipython-input-5-4aaea79a673a>:1: DeprecationWarning: DataFrameGroupBy.apply operated on the grouping columns. This behavior is deprecated, and in a future version of pandas the grouping columns will be excluded from the operation. Either pass `include_groups=False` to exclude the groupings or explicitly select the grouping columns after groupby to silence this warning.\n",
            "  winning_party_by_constituency=df.groupby('Constituency').apply(get_winning_party)\n"
          ]
        }
      ]
    },
    {
      "cell_type": "code",
      "source": [
        "overall_winner = total_votes_by_party.idxmax()\n",
        "\n",
        "print(\"\\nOverall Election Winner:\", overall_winner)\n"
      ],
      "metadata": {
        "colab": {
          "base_uri": "https://localhost:8080/"
        },
        "id": "e_WBrIWSlgaT",
        "outputId": "36444aa9-18e2-4f6d-e0a7-052e7710d95d"
      },
      "execution_count": null,
      "outputs": [
        {
          "output_type": "stream",
          "name": "stdout",
          "text": [
            "\n",
            "Overall Election Winner: Party A\n"
          ]
        }
      ]
    },
    {
      "cell_type": "code",
      "source": [
        "#Calculate vote share percentages\n",
        "\n",
        "total_votes =df['Votes'].sum()\n",
        "\n",
        "df['Vote Share (%)'] =(df['Votes'] / total_votes)*100\n",
        "\n",
        "print(\"\\nVote Share Percentages:\\n\", df)\n"
      ],
      "metadata": {
        "colab": {
          "base_uri": "https://localhost:8080/"
        },
        "id": "L_6gi_oNlkjQ",
        "outputId": "a08775c9-6c9c-4e08-ff23-7adcbff52e08"
      },
      "execution_count": null,
      "outputs": [
        {
          "output_type": "stream",
          "name": "stdout",
          "text": [
            "\n",
            "Vote Share Percentages:\n",
            "   Constituency    Party    Candidate  Votes  Vote Share (%)\n",
            "0            A  Party A  Candidate X  15000       11.904762\n",
            "1            B  Party B  Candidate Y  12000        9.523810\n",
            "2            C  Party A  Candidate Z  18000       14.285714\n",
            "3            A  Party B  Candidate P  13000       10.317460\n",
            "4            B  Party C  Candidate Q  10000        7.936508\n",
            "5            C  Party C  Candidate R  11000        8.730159\n",
            "6            A  Party A  Candidate S  17000       13.492063\n",
            "7            B  Party B  Candidate T  14000       11.111111\n",
            "8            C  Party A  Candidate U  16000       12.698413\n"
          ]
        }
      ]
    },
    {
      "cell_type": "code",
      "source": [
        "def close_contest(x):\n",
        "   vote_counts = x[ 'Votes'].values\n",
        "   if len(vote_counts) > 1:\n",
        "       vote_counts.sort() # Sort the vote counts within the constituency\n",
        "       margin=(vote_counts[-1] -vote_counts[-2]) / vote_counts[-1] * 100\n",
        "       return margin < 12.0\n",
        "   else:\n",
        "       return False\n",
        "close_constituencies =df.groupby('Constituency').filter(close_contest) ['Constituency'].unique()\n",
        "print(\"\\nConstituencies with Close Contests:\", close_constituencies)\n"
      ],
      "metadata": {
        "id": "WqAYoOTwlqZK",
        "outputId": "b83f0231-6c34-465c-981a-6032a5cab5c5",
        "colab": {
          "base_uri": "https://localhost:8080/"
        }
      },
      "execution_count": null,
      "outputs": [
        {
          "output_type": "stream",
          "name": "stdout",
          "text": [
            "\n",
            "Constituencies with Close Contests: ['A' 'C']\n"
          ]
        }
      ]
    }
  ]
}